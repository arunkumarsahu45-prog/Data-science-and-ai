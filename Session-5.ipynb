{
 "cells": [
  {
   "cell_type": "code",
   "execution_count": 1,
   "id": "08b8490e-8235-4598-b04b-cf54f2e8b047",
   "metadata": {},
   "outputs": [
    {
     "name": "stdout",
     "output_type": "stream",
     "text": [
      "['False', 'None', 'True', 'and', 'as', 'assert', 'async', 'await', 'break', 'class', 'continue', 'def', 'del', 'elif', 'else', 'except', 'finally', 'for', 'from', 'global', 'if', 'import', 'in', 'is', 'lambda', 'nonlocal', 'not', 'or', 'pass', 'raise', 'return', 'try', 'while', 'with', 'yield']\n"
     ]
    }
   ],
   "source": [
    "import keyword\n",
    "print(keyword.kwlist)"
   ]
  },
  {
   "cell_type": "code",
   "execution_count": 5,
   "id": "bf76849f-eb6d-43a7-ba42-e202e8635318",
   "metadata": {},
   "outputs": [
    {
     "name": "stdout",
     "output_type": "stream",
     "text": [
      "10\n"
     ]
    }
   ],
   "source": [
    "variable_name=10\n",
    "print(variable_name)"
   ]
  },
  {
   "cell_type": "code",
   "execution_count": null,
   "id": "b414e47c-4f4d-426c-bcdb-285ba2d48c21",
   "metadata": {},
   "outputs": [],
   "source": [
    "#example1:integer value"
   ]
  },
  {
   "cell_type": "code",
   "execution_count": 3,
   "id": "3ab46750-3ed8-4582-8140-782bdf6770ba",
   "metadata": {},
   "outputs": [
    {
     "name": "stdout",
     "output_type": "stream",
     "text": [
      "25\n"
     ]
    }
   ],
   "source": [
    "age=25\n",
    "print(age)"
   ]
  },
  {
   "cell_type": "code",
   "execution_count": null,
   "id": "07794796-663a-4717-9a40-f6e003bbe2ea",
   "metadata": {},
   "outputs": [],
   "source": [
    "#example-2:string variable"
   ]
  },
  {
   "cell_type": "code",
   "execution_count": 4,
   "id": "8bcae4fb-82a3-46c5-afa6-6ae7a671d6e3",
   "metadata": {},
   "outputs": [
    {
     "name": "stdout",
     "output_type": "stream",
     "text": [
      "arun\n"
     ]
    }
   ],
   "source": [
    "name='arun'\n",
    "print(name)"
   ]
  },
  {
   "cell_type": "code",
   "execution_count": null,
   "id": "670a435c-05fb-4206-9be1-e939111299da",
   "metadata": {},
   "outputs": [],
   "source": [
    "#example3:flote variable"
   ]
  },
  {
   "cell_type": "code",
   "execution_count": 6,
   "id": "1e616099-754e-423a-9d49-b550ef59a857",
   "metadata": {},
   "outputs": [
    {
     "name": "stdout",
     "output_type": "stream",
     "text": [
      "19.99\n"
     ]
    }
   ],
   "source": [
    "price=19.99\n",
    "print(price)"
   ]
  },
  {
   "cell_type": "code",
   "execution_count": null,
   "id": "120789e5-ed1d-47be-a130-61b0be38304c",
   "metadata": {},
   "outputs": [],
   "source": [
    "#boolean variable"
   ]
  },
  {
   "cell_type": "code",
   "execution_count": 8,
   "id": "3feaad31-b7f3-458f-9df8-f48ce613e2f8",
   "metadata": {},
   "outputs": [
    {
     "name": "stdout",
     "output_type": "stream",
     "text": [
      "True\n"
     ]
    }
   ],
   "source": [
    "is_active=True\n",
    "print(is_active)"
   ]
  },
  {
   "cell_type": "code",
   "execution_count": null,
   "id": "1659774c-2bd4-4158-acef-2a8d0d0075f7",
   "metadata": {},
   "outputs": [],
   "source": [
    "#storing and printing the value"
   ]
  },
  {
   "cell_type": "code",
   "execution_count": 22,
   "id": "5a46ed3b-91ef-4a25-9e58-f2fc34becd8b",
   "metadata": {},
   "outputs": [
    {
     "name": "stdout",
     "output_type": "stream",
     "text": [
      "10\n"
     ]
    }
   ],
   "source": [
    "x=10\n",
    "print(x)"
   ]
  },
  {
   "cell_type": "code",
   "execution_count": null,
   "id": "26a589c9-84da-4b5a-a169-5cf1193f0943",
   "metadata": {},
   "outputs": [],
   "source": [
    "#using variables in expression"
   ]
  },
  {
   "cell_type": "code",
   "execution_count": null,
   "id": "f8ccd9f9-9a89-41b0-8738-5267e01661e4",
   "metadata": {},
   "outputs": [],
   "source": [
    "#assigning value to variables"
   ]
  },
  {
   "cell_type": "code",
   "execution_count": 15,
   "id": "2933a20d-92aa-4265-b897-772f0c25b1aa",
   "metadata": {},
   "outputs": [],
   "source": [
    "a=5"
   ]
  },
  {
   "cell_type": "code",
   "execution_count": 16,
   "id": "7b28d220-a138-4a27-a180-e8d52a1b4617",
   "metadata": {},
   "outputs": [],
   "source": [
    "b=3"
   ]
  },
  {
   "cell_type": "code",
   "execution_count": 17,
   "id": "4146a5be-ec80-48bc-974b-f5d33d4d4556",
   "metadata": {},
   "outputs": [],
   "source": [
    "#adding two variables and storing the result in 'result'"
   ]
  },
  {
   "cell_type": "code",
   "execution_count": 18,
   "id": "e82c3a60-9fdf-4759-afff-cb0d88aa24ad",
   "metadata": {},
   "outputs": [
    {
     "name": "stdout",
     "output_type": "stream",
     "text": [
      "8\n"
     ]
    }
   ],
   "source": [
    "result= a+b\n",
    "print(result)"
   ]
  },
  {
   "cell_type": "code",
   "execution_count": null,
   "id": "4dec5d2f-0f4b-4536-a4b5-dfd0e940c1ab",
   "metadata": {},
   "outputs": [],
   "source": [
    "a=10"
   ]
  },
  {
   "cell_type": "code",
   "execution_count": null,
   "id": "97d18c4c-509d-424f-a6d4-e7ba3c5e6255",
   "metadata": {},
   "outputs": [],
   "source": [
    "b=20"
   ]
  },
  {
   "cell_type": "code",
   "execution_count": 23,
   "id": "7db89e87-46a8-4b08-818f-8f5f3cb5adf3",
   "metadata": {},
   "outputs": [
    {
     "name": "stdout",
     "output_type": "stream",
     "text": [
      "30\n"
     ]
    }
   ],
   "source": [
    "print(a+b)"
   ]
  },
  {
   "cell_type": "code",
   "execution_count": 24,
   "id": "e113a972-3a79-4086-bb79-e7cae562ae93",
   "metadata": {},
   "outputs": [
    {
     "name": "stdout",
     "output_type": "stream",
     "text": [
      "30\n"
     ]
    }
   ],
   "source": [
    "a=10\n",
    "b=20\n",
    "print(a+b)"
   ]
  },
  {
   "cell_type": "code",
   "execution_count": null,
   "id": "f3b18a09-6078-4fab-963d-e4680deffbe9",
   "metadata": {},
   "outputs": [],
   "source": [
    "#initial and change the value"
   ]
  },
  {
   "cell_type": "code",
   "execution_count": 1,
   "id": "086b20d8-fb18-4fb6-9f77-2bbaed09af95",
   "metadata": {},
   "outputs": [
    {
     "name": "stdout",
     "output_type": "stream",
     "text": [
      "50\n"
     ]
    }
   ],
   "source": [
    "score=50\n",
    "print(score)"
   ]
  },
  {
   "cell_type": "code",
   "execution_count": 2,
   "id": "bc4858ba-47f2-4c53-a4b1-169a8d8ed57d",
   "metadata": {},
   "outputs": [
    {
     "name": "stdout",
     "output_type": "stream",
     "text": [
      "100\n"
     ]
    }
   ],
   "source": [
    "score=100\n",
    "print(score)"
   ]
  },
  {
   "cell_type": "code",
   "execution_count": null,
   "id": "c0ad39ef-0173-438d-a413-e71aa7800f84",
   "metadata": {},
   "outputs": [],
   "source": [
    "#concatenating string and storing in a new variable "
   ]
  },
  {
   "cell_type": "code",
   "execution_count": 2,
   "id": "0d200000-cd23-41af-882d-494dedc7e08e",
   "metadata": {},
   "outputs": [],
   "source": [
    "first_name=\"arunkumar\"\n",
    "last_name=\"sahu\""
   ]
  },
  {
   "cell_type": "code",
   "execution_count": 3,
   "id": "c72449b8-f0f0-4e34-9486-83a5d6bcd179",
   "metadata": {},
   "outputs": [
    {
     "name": "stdout",
     "output_type": "stream",
     "text": [
      "arunkumar sahu\n"
     ]
    }
   ],
   "source": [
    "print(first_name,last_name)"
   ]
  },
  {
   "cell_type": "code",
   "execution_count": 5,
   "id": "c293b2cf-da58-48ee-bf63-6647ba55989b",
   "metadata": {},
   "outputs": [
    {
     "name": "stdout",
     "output_type": "stream",
     "text": [
      "johndoe\n"
     ]
    }
   ],
   "source": [
    "first_name=\"john\"\n",
    "last_name=\"doe\"\n",
    "full_name=first_name+\"\"+last_name\n",
    "print(full_name)"
   ]
  },
  {
   "cell_type": "code",
   "execution_count": null,
   "id": "67b2b81e-48f3-4b3f-a40c-1a4d92a94318",
   "metadata": {},
   "outputs": [],
   "source": [
    "#using variables in a calculation"
   ]
  },
  {
   "cell_type": "code",
   "execution_count": 6,
   "id": "b63295a7-b223-4e1a-ab38-494b5ae4cf5e",
   "metadata": {},
   "outputs": [
    {
     "name": "stdout",
     "output_type": "stream",
     "text": [
      "50\n"
     ]
    }
   ],
   "source": [
    "length=10\n",
    "width=5\n",
    "area=length*width\n",
    "print(area)"
   ]
  },
  {
   "cell_type": "code",
   "execution_count": 7,
   "id": "c490be46-6af0-49d1-8a6b-4a94016950e9",
   "metadata": {},
   "outputs": [
    {
     "name": "stdout",
     "output_type": "stream",
     "text": [
      "<class 'type'>\n"
     ]
    }
   ],
   "source": [
    "m=10\n",
    "print(type)"
   ]
  },
  {
   "cell_type": "code",
   "execution_count": 8,
   "id": "f163e95d-4f1f-438d-b45f-973e4518baea",
   "metadata": {},
   "outputs": [
    {
     "name": "stdout",
     "output_type": "stream",
     "text": [
      "<class 'int'>\n",
      "<class 'float'>\n"
     ]
    }
   ],
   "source": [
    "k=10\n",
    "h=10.5\n",
    "print(type(k))\n",
    "print(type(h))"
   ]
  },
  {
   "cell_type": "code",
   "execution_count": 9,
   "id": "fc6070cb-dbe7-4c4b-b55b-69f2d9ac2107",
   "metadata": {},
   "outputs": [
    {
     "name": "stdout",
     "output_type": "stream",
     "text": [
      "<class 'str'>\n"
     ]
    }
   ],
   "source": [
    "z=\"arun kumar sahu\"\n",
    "print(type(z))"
   ]
  },
  {
   "cell_type": "code",
   "execution_count": null,
   "id": "b2e7756e-4d4e-4f85-9286-6616d571578d",
   "metadata": {},
   "outputs": [],
   "source": []
  }
 ],
 "metadata": {
  "kernelspec": {
   "display_name": "Python 3.14",
   "language": "python",
   "name": "python314"
  },
  "language_info": {
   "codemirror_mode": {
    "name": "ipython",
    "version": 3
   },
   "file_extension": ".py",
   "mimetype": "text/x-python",
   "name": "python",
   "nbconvert_exporter": "python",
   "pygments_lexer": "ipython3",
   "version": "3.14.0"
  }
 },
 "nbformat": 4,
 "nbformat_minor": 5
}
